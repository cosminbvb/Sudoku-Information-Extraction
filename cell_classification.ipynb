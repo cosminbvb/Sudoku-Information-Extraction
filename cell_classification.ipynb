{
 "cells": [
  {
   "cell_type": "code",
   "execution_count": 18,
   "metadata": {},
   "outputs": [],
   "source": [
    "import os\n",
    "import numpy as np\n",
    "import cv2 as cv\n",
    "\n",
    "from sklearn.model_selection import train_test_split\n",
    "\n",
    "import tensorflow as tf\n",
    "from tensorflow.keras.models import Sequential\n",
    "from tensorflow.keras.layers import Dense, Dropout\n",
    "from tensorflow.keras.layers import Conv2D, MaxPooling2D, Flatten\n",
    "from tensorflow.keras.losses import categorical_crossentropy\n",
    "from tensorflow.keras.utils import to_categorical\n",
    "from tensorflow.keras.callbacks import ModelCheckpoint"
   ]
  },
  {
   "cell_type": "code",
   "execution_count": 19,
   "metadata": {},
   "outputs": [],
   "source": [
    "def show_image(title,image):\n",
    "    cv.imshow(title,image)\n",
    "    cv.waitKey(0)\n",
    "    cv.destroyAllWindows()"
   ]
  },
  {
   "cell_type": "markdown",
   "metadata": {},
   "source": [
    "### Load the dataset"
   ]
  },
  {
   "cell_type": "code",
   "execution_count": 20,
   "metadata": {},
   "outputs": [],
   "source": [
    "X = [] # images\n",
    "Y = [] # labels\n",
    "for cls in range(10):\n",
    "    class_path = f'cells_dataset/assets/{cls}'\n",
    "    for img_id in os.listdir(class_path):\n",
    "        img_path = class_path + '/' + img_id\n",
    "        img = cv.imread(img_path)\n",
    "        img = cv.cvtColor(img, cv.COLOR_BGR2GRAY)\n",
    "        # the dataset has white digits and black background\n",
    "        # so I chose to invert the colors to fit our sudoku \n",
    "        # dataset better\n",
    "        img = cv.bitwise_not(img) \n",
    "        X.append(img)\n",
    "        Y.append(cls)\n",
    "\n",
    "X = np.array(X) / 255  # normalize\n",
    "Y = np.array(Y)\n",
    "\n",
    "X = X.reshape((X.shape[0], 28, 28, 1)).astype('float32')  # reshape\n",
    "Y = to_categorical(Y)  # one hot encoding"
   ]
  },
  {
   "cell_type": "code",
   "execution_count": 21,
   "metadata": {},
   "outputs": [
    {
     "name": "stdout",
     "output_type": "stream",
     "text": [
      "(3456, 28, 28, 1)\n",
      "(3456, 10)\n"
     ]
    }
   ],
   "source": [
    "print(X.shape) # (3456, 28, 28, 1)\n",
    "print(Y.shape) # (3456, 10)"
   ]
  },
  {
   "cell_type": "code",
   "execution_count": 7,
   "metadata": {},
   "outputs": [],
   "source": [
    "# test\n",
    "show_image(f\"{np.argmax(Y[500])}\", X[500])"
   ]
  },
  {
   "cell_type": "markdown",
   "metadata": {},
   "source": [
    "### Split the dataset into test and train"
   ]
  },
  {
   "cell_type": "code",
   "execution_count": 24,
   "metadata": {},
   "outputs": [
    {
     "name": "stdout",
     "output_type": "stream",
     "text": [
      "(3369, 28, 28, 1)\n",
      "(87, 28, 28, 1)\n"
     ]
    }
   ],
   "source": [
    "X_train, X_test, Y_train, Y_test = train_test_split(\n",
    "    X, Y, test_size=0.025, shuffle=True)\n",
    "\n",
    "print(X_train.shape) # (3369, 28, 28, 1)\n",
    "print(X_test.shape)  # (87, 28, 28, 1)"
   ]
  },
  {
   "cell_type": "markdown",
   "metadata": {},
   "source": [
    "### Build the CNN"
   ]
  },
  {
   "cell_type": "code",
   "execution_count": 31,
   "metadata": {},
   "outputs": [],
   "source": [
    "def create_model():\n",
    "        cnn = Sequential()\n",
    "        cnn.add(Conv2D(32, (5, 5), input_shape=(28, 28, 1),\n",
    "                activation='relu', padding='same'))\n",
    "        cnn.add(MaxPooling2D((2, 2), padding='same'))\n",
    "        cnn.add(Conv2D(16, (3, 3), activation='relu', padding='same'))\n",
    "        cnn.add(MaxPooling2D((2, 2), padding='same'))\n",
    "        cnn.add(Conv2D(8, (3, 3), activation='relu', padding='same'))\n",
    "        cnn.add(MaxPooling2D((2, 2), padding='same'))\n",
    "        cnn.add(Dropout(0.2))\n",
    "        cnn.add(Flatten())\n",
    "        cnn.add(Dense(128, activation='relu'))\n",
    "        cnn.add(Dense(10, activation='softmax'))\n",
    "\n",
    "        cnn.compile(loss=categorical_crossentropy,\n",
    "                optimizer='adam', metrics=['accuracy'])\n",
    "        # cnn.summary()\n",
    "        return cnn\n",
    "        \n",
    "model = create_model()\n"
   ]
  },
  {
   "cell_type": "markdown",
   "metadata": {},
   "source": [
    "### Train and store\n"
   ]
  },
  {
   "cell_type": "code",
   "execution_count": 32,
   "metadata": {},
   "outputs": [
    {
     "name": "stdout",
     "output_type": "stream",
     "text": [
      "Epoch 1/20\n",
      "843/843 [==============================] - 3s 3ms/step - loss: 1.9101 - accuracy: 0.2737 - val_loss: 1.2491 - val_accuracy: 0.5977\n",
      "Epoch 2/20\n",
      "843/843 [==============================] - 3s 3ms/step - loss: 0.7927 - accuracy: 0.7047 - val_loss: 0.4412 - val_accuracy: 0.8621\n",
      "Epoch 3/20\n",
      "843/843 [==============================] - 2s 3ms/step - loss: 0.3547 - accuracy: 0.8819 - val_loss: 0.4345 - val_accuracy: 0.8506\n",
      "Epoch 4/20\n",
      "843/843 [==============================] - 2s 3ms/step - loss: 0.2264 - accuracy: 0.9264 - val_loss: 0.1503 - val_accuracy: 0.9310\n",
      "Epoch 5/20\n",
      "843/843 [==============================] - 2s 3ms/step - loss: 0.1546 - accuracy: 0.9522 - val_loss: 0.1543 - val_accuracy: 0.9540\n",
      "Epoch 6/20\n",
      "843/843 [==============================] - 2s 3ms/step - loss: 0.1378 - accuracy: 0.9537 - val_loss: 0.1679 - val_accuracy: 0.9425\n",
      "Epoch 7/20\n",
      "843/843 [==============================] - 2s 3ms/step - loss: 0.0951 - accuracy: 0.9706 - val_loss: 0.1685 - val_accuracy: 0.9770\n",
      "Epoch 8/20\n",
      "843/843 [==============================] - 2s 3ms/step - loss: 0.1167 - accuracy: 0.9632 - val_loss: 0.0749 - val_accuracy: 0.9770\n",
      "Epoch 9/20\n",
      "843/843 [==============================] - 2s 3ms/step - loss: 0.0878 - accuracy: 0.9718 - val_loss: 0.1252 - val_accuracy: 0.9770\n",
      "Epoch 10/20\n",
      "843/843 [==============================] - 2s 3ms/step - loss: 0.0756 - accuracy: 0.9760 - val_loss: 0.0876 - val_accuracy: 0.9540\n",
      "Epoch 11/20\n",
      "843/843 [==============================] - 2s 3ms/step - loss: 0.0786 - accuracy: 0.9736 - val_loss: 0.0556 - val_accuracy: 0.9885\n",
      "Epoch 12/20\n",
      "843/843 [==============================] - 2s 3ms/step - loss: 0.0573 - accuracy: 0.9828 - val_loss: 0.1105 - val_accuracy: 0.9885\n",
      "Epoch 13/20\n",
      "843/843 [==============================] - 2s 3ms/step - loss: 0.0539 - accuracy: 0.9819 - val_loss: 0.3946 - val_accuracy: 0.8621\n",
      "Epoch 14/20\n",
      "843/843 [==============================] - 2s 3ms/step - loss: 0.0531 - accuracy: 0.9837 - val_loss: 0.0677 - val_accuracy: 0.9655\n",
      "Epoch 15/20\n",
      "843/843 [==============================] - 2s 3ms/step - loss: 0.0507 - accuracy: 0.9825 - val_loss: 0.0530 - val_accuracy: 0.9885\n",
      "Epoch 16/20\n",
      "843/843 [==============================] - 2s 3ms/step - loss: 0.0518 - accuracy: 0.9825 - val_loss: 0.1211 - val_accuracy: 0.9770\n",
      "Epoch 17/20\n",
      "843/843 [==============================] - 2s 3ms/step - loss: 0.0493 - accuracy: 0.9849 - val_loss: 0.0665 - val_accuracy: 0.9885\n",
      "Epoch 18/20\n",
      "843/843 [==============================] - 2s 3ms/step - loss: 0.0435 - accuracy: 0.9866 - val_loss: 0.1499 - val_accuracy: 0.9770\n",
      "Epoch 19/20\n",
      "843/843 [==============================] - 2s 3ms/step - loss: 0.0372 - accuracy: 0.9905 - val_loss: 0.1609 - val_accuracy: 0.9885\n",
      "Epoch 20/20\n",
      "843/843 [==============================] - 2s 3ms/step - loss: 0.0525 - accuracy: 0.9828 - val_loss: 0.0698 - val_accuracy: 0.9885\n"
     ]
    }
   ],
   "source": [
    "batch_size = 4\n",
    "epochs = 20\n",
    "\n",
    "model.fit(X_train, Y_train, batch_size=batch_size, epochs=epochs,\n",
    "          verbose=1, validation_data=(X_test, Y_test))\n",
    "\n",
    "model.save('saved_model/model.h5')\n"
   ]
  },
  {
   "cell_type": "markdown",
   "metadata": {},
   "source": [
    "### Load and Inference"
   ]
  },
  {
   "cell_type": "code",
   "execution_count": 83,
   "metadata": {},
   "outputs": [
    {
     "name": "stdout",
     "output_type": "stream",
     "text": [
      "11/11 - 0s - loss: 0.0836 - accuracy: 0.9827 - 120ms/epoch - 11ms/step\n",
      "Restored model, accuracy: 98.27%\n",
      "11/11 [==============================] - 0s 3ms/step\n"
     ]
    },
    {
     "data": {
      "image/png": "[encoded data removed]",
      "text/plain": [
       "<Figure size 432x288 with 1 Axes>"
      ]
     },
     "metadata": {
      "needs_background": "light"
     },
     "output_type": "display_data"
    },
    {
     "data": {
      "image/png": "[encoded data removed]",
      "text/plain": [
       "<Figure size 432x288 with 1 Axes>"
      ]
     },
     "metadata": {
      "needs_background": "light"
     },
     "output_type": "display_data"
    },
    {
     "data": {
      "image/png": "[encoded data removed]",
      "text/plain": [
       "<Figure size 432x288 with 1 Axes>"
      ]
     },
     "metadata": {
      "needs_background": "light"
     },
     "output_type": "display_data"
    },
    {
     "data": {
      "image/png": "[encoded data removed]",
      "text/plain": [
       "<Figure size 432x288 with 1 Axes>"
      ]
     },
     "metadata": {
      "needs_background": "light"
     },
     "output_type": "display_data"
    },
    {
     "data": {
      "image/png": "[encoded data removed]",
      "text/plain": [
       "<Figure size 432x288 with 1 Axes>"
      ]
     },
     "metadata": {
      "needs_background": "light"
     },
     "output_type": "display_data"
    },
    {
     "data": {
      "image/png": "[encoded data removed]",
      "text/plain": [
       "<Figure size 432x288 with 1 Axes>"
      ]
     },
     "metadata": {
      "needs_background": "light"
     },
     "output_type": "display_data"
    },
    {
     "data": {
      "image/png": "[encoded data removed]",
      "text/plain": [
       "<Figure size 432x288 with 1 Axes>"
      ]
     },
     "metadata": {
      "needs_background": "light"
     },
     "output_type": "display_data"
    },
    {
     "data": {
      "image/png": "[encoded data removed]",
      "text/plain": [
       "<Figure size 432x288 with 1 Axes>"
      ]
     },
     "metadata": {
      "needs_background": "light"
     },
     "output_type": "display_data"
    },
    {
     "data": {
      "image/png": "[encoded data removed]",
      "text/plain": [
       "<Figure size 432x288 with 1 Axes>"
      ]
     },
     "metadata": {
      "needs_background": "light"
     },
     "output_type": "display_data"
    },
    {
     "data": {
      "image/png": "[encoded data removed]",
      "text/plain": [
       "<Figure size 432x288 with 1 Axes>"
      ]
     },
     "metadata": {
      "needs_background": "light"
     },
     "output_type": "display_data"
    }
   ],
   "source": [
    "model = tf.keras.models.load_model('saved_model/model.h5')\n",
    "\n",
    "loss, acc = model.evaluate(X_test, Y_test, verbose=2)\n",
    "print('Restored model, accuracy: {:5.2f}%'.format(100 * acc))\n",
    "\n",
    "pred = model.predict(X_test,verbose = 1)\n",
    "\n",
    "import matplotlib.pyplot as plt\n",
    "\n",
    "for i in range(10):\n",
    "    plt.imshow(X_test[i])\n",
    "    plt.title(np.argmax(pred[i]))\n",
    "    plt.show()\n",
    "\n"
   ]
  }
 ],
 "metadata": {
  "interpreter": {
   "hash": "916dbcbb3f70747c44a77c7bcd40155683ae19c65e1c03b4aa3499c5328201f1"
  },
  "kernelspec": {
   "display_name": "Python 3.8.10 64-bit",
   "language": "python",
   "name": "python3"
  },
  "language_info": {
   "codemirror_mode": {
    "name": "ipython",
    "version": 3
   },
   "file_extension": ".py",
   "mimetype": "text/x-python",
   "name": "python",
   "nbconvert_exporter": "python",
   "pygments_lexer": "ipython3",
   "version": "3.8.10"
  },
  "orig_nbformat": 4
 },
 "nbformat": 4,
 "nbformat_minor": 2
}
