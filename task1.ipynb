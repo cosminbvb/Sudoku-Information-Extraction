{
 "cells": [
  {
   "cell_type": "code",
   "execution_count": 1,
   "id": "c1fe900c",
   "metadata": {},
   "outputs": [],
   "source": [
    "import cv2 as cv\n",
    "import numpy as np\n",
    "import tensorflow as tf\n",
    "\n",
    "from helpers.utils import show_image, normalize, preprocess_image, detect_sudoku, extract_cells, sobel_gradients, get_binary_labels, get_digit_labels"
   ]
  },
  {
   "cell_type": "code",
   "execution_count": 17,
   "id": "1f622727",
   "metadata": {},
   "outputs": [],
   "source": [
    "def extract_information(img):\n",
    "    img = detect_sudoku(img)  # varying size, colored\n",
    "    img = cv.resize(img, (500, 500))  # fixed size\n",
    "    img = cv.cvtColor(img, cv.COLOR_BGR2GRAY)  # fixed size, grayscale\n",
    "    img = normalize(img)\n",
    "    # show_image(\"sudoku\", img)  # show cropped image (sudoku rectangle)\n",
    "\n",
    "    # apply lines overlay:\n",
    "    # for line in lines_vertical:\n",
    "    #     cv.line(img, line[0], line[1], (0, 255, 0), 5)\n",
    "    # for line in lines_horizontal:\n",
    "    #     cv.line(img, line[0], line[1], (0, 0, 255), 5)\n",
    "    # show_image(\"img\", img)  # show sudoku with lines overlay\n",
    "    \n",
    "    binary_labels = get_binary_labels(img)\n",
    "    \n",
    "    model = tf.keras.models.load_model('saved_model/model.h5')\n",
    "    \n",
    "    digit_labels = get_digit_labels(img, model)\n",
    "\n",
    "    return binary_labels, digit_labels\n",
    "\n"
   ]
  },
  {
   "cell_type": "code",
   "execution_count": 3,
   "id": "9a51b1a7",
   "metadata": {},
   "outputs": [],
   "source": [
    "def get_results(input_dir, output_dir, number_of_samples):\n",
    "    for i in range(1, number_of_samples + 1):\n",
    "        if i < 10:\n",
    "            img = cv.imread(\n",
    "                f\"{input_dir}/0{i}.jpg\")\n",
    "        else:\n",
    "            img = cv.imread(\n",
    "                f\"{input_dir}/{i}.jpg\")\n",
    "        binary_labels, digit_labels = extract_information(img)\n",
    "        binary_labels = np.array(binary_labels)\n",
    "        binary_labels = np.reshape(binary_labels, (9, 9))\n",
    "        digit_labels = np.array(digit_labels)\n",
    "        digit_labels = np.reshape(digit_labels, (9, 9))\n",
    "\n",
    "        file = open(f'{output_dir}/clasic/{i}_predicted.txt', 'w')\n",
    "        for j in range(9):\n",
    "            for k in range(9):\n",
    "                if binary_labels[j][k] == 0:\n",
    "                    char = 'o'\n",
    "                else:\n",
    "                    char = 'x'\n",
    "                file.write(char)\n",
    "            if j != 8:\n",
    "                file.write('\\n')\n",
    "        file.close()\n",
    "\n",
    "        file = open(f'{output_dir}/clasic/{i}_bonus_predicted.txt', 'w')\n",
    "        for j in range(9):\n",
    "            for k in range(9):\n",
    "                char = str(digit_labels[j][k])\n",
    "                if char == '0':\n",
    "                    char = 'o'\n",
    "                file.write(char)\n",
    "            if j != 8:\n",
    "                file.write('\\n')\n",
    "        file.close()"
   ]
  },
  {
   "cell_type": "code",
   "execution_count": 18,
   "id": "52c90ebd",
   "metadata": {},
   "outputs": [],
   "source": [
    "input_dir = 'datasets/antrenare/clasic'\n",
    "output_dir = 'results'\n",
    "number_of_samples = 20  # number of input images\n",
    "get_results(input_dir, output_dir, number_of_samples)"
   ]
  }
 ],
 "metadata": {
  "kernelspec": {
   "display_name": "Python 3 (ipykernel)",
   "language": "python",
   "name": "python3"
  },
  "language_info": {
   "codemirror_mode": {
    "name": "ipython",
    "version": 3
   },
   "file_extension": ".py",
   "mimetype": "text/x-python",
   "name": "python",
   "nbconvert_exporter": "python",
   "pygments_lexer": "ipython3",
   "version": "3.8.10"
  }
 },
 "nbformat": 4,
 "nbformat_minor": 5
}
