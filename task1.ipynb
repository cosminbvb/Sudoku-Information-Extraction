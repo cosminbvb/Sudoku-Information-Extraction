{
 "cells": [
  {
   "cell_type": "code",
   "execution_count": 4,
   "id": "c1fe900c",
   "metadata": {},
   "outputs": [],
   "source": [
    "import cv2 as cv\n",
    "import numpy as np\n",
    "import tensorflow as tf\n",
    "\n",
    "from helpers.utils import show_image, normalize, preprocess_image, detect_sudoku, extract_cells"
   ]
  },
  {
   "cell_type": "code",
   "execution_count": 5,
   "id": "1f622727",
   "metadata": {},
   "outputs": [],
   "source": [
    "def extract_information(img):\n",
    "    model = tf.keras.models.load_model('saved_model/model.h5')\n",
    "    img = detect_sudoku(img)  # varying size, colored\n",
    "    img = cv.resize(img, (500, 500))  # fixed size\n",
    "    # show_image(\"sudoku\", img)  # show cropped image (sudoku rectangle)\n",
    "\n",
    "    # apply lines overlay:\n",
    "    # for line in lines_vertical:\n",
    "    #     cv.line(img, line[0], line[1], (0, 255, 0), 5)\n",
    "    # for line in lines_horizontal:\n",
    "    #     cv.line(img, line[0], line[1], (0, 0, 255), 5)\n",
    "    # show_image(\"img\", img)  # show sudoku with lines overlay\n",
    "\n",
    "    img = cv.cvtColor(img, cv.COLOR_BGR2GRAY)  # fixed size, grayscale\n",
    "\n",
    "    cells = extract_cells(img)  # each cell is a 28x28 grayscale image\n",
    "    cells = cells.reshape((cells.shape[0], 28, 28, 1)).astype('float32')\n",
    "    predictions = model.predict(cells)  # make predictions\n",
    "    labels = [np.argmax(prediction) for prediction in predictions]  # extract labels\n",
    "    return labels\n",
    "\n"
   ]
  },
  {
   "cell_type": "code",
   "execution_count": 6,
   "id": "9a51b1a7",
   "metadata": {},
   "outputs": [],
   "source": [
    "def get_results(input_dir, output_dir, number_of_samples):\n",
    "    for i in range(1, number_of_samples + 1):\n",
    "        if i < 10:\n",
    "            img = cv.imread(\n",
    "                f\"{input_dir}/0{i}.jpg\")\n",
    "        else:\n",
    "            img = cv.imread(\n",
    "                f\"{input_dir}/{i}.jpg\") \n",
    "        cell_labels = np.array(extract_information(img))\n",
    "        cell_labels = np.reshape(cell_labels, (9, 9))\n",
    "\n",
    "        file = open(f'{output_dir}/clasic/{i}_predicted.txt', 'w')\n",
    "        for j in range(9):\n",
    "            for k in range(9):\n",
    "                if cell_labels[j][k] == 0:\n",
    "                    char = 'o'\n",
    "                else:\n",
    "                    char = 'x'\n",
    "                file.write(char)\n",
    "            if j != 8:\n",
    "                file.write('\\n')\n",
    "        file.close()\n",
    "\n",
    "        file = open(f'{output_dir}/clasic/{i}_bonus_predicted.txt', 'w')\n",
    "        for j in range(9):\n",
    "            for k in range(9):\n",
    "                char = str(cell_labels[j][k])\n",
    "                if char == '0':\n",
    "                    char = 'o'\n",
    "                file.write(char)\n",
    "            if j != 8:\n",
    "                file.write('\\n')\n",
    "        file.close()"
   ]
  },
  {
   "cell_type": "code",
   "execution_count": 7,
   "id": "52c90ebd",
   "metadata": {},
   "outputs": [
    {
     "name": "stderr",
     "output_type": "stream",
     "text": [
      "2021-11-29 16:21:18.792427: I tensorflow/stream_executor/cuda/cuda_gpu_executor.cc:939] successful NUMA node read from SysFS had negative value (-1), but there must be at least one NUMA node, so returning NUMA node zero\n",
      "2021-11-29 16:21:18.803692: W tensorflow/stream_executor/platform/default/dso_loader.cc:64] Could not load dynamic library 'libcudnn.so.8'; dlerror: libcudnn.so.8: cannot open shared object file: No such file or directory\n",
      "2021-11-29 16:21:18.803714: W tensorflow/core/common_runtime/gpu/gpu_device.cc:1850] Cannot dlopen some GPU libraries. Please make sure the missing libraries mentioned above are installed properly if you would like to use GPU. Follow the guide at https://www.tensorflow.org/install/gpu for how to download and setup the required libraries for your platform.\n",
      "Skipping registering GPU devices...\n",
      "2021-11-29 16:21:18.804732: I tensorflow/core/platform/cpu_feature_guard.cc:151] This TensorFlow binary is optimized with oneAPI Deep Neural Network Library (oneDNN) to use the following CPU instructions in performance-critical operations:  AVX2 FMA\n",
      "To enable them in other operations, rebuild TensorFlow with the appropriate compiler flags.\n"
     ]
    },
    {
     "name": "stdout",
     "output_type": "stream",
     "text": [
      "WARNING:tensorflow:5 out of the last 13 calls to <function Model.make_predict_function.<locals>.predict_function at 0x7fd9603af160> triggered tf.function retracing. Tracing is expensive and the excessive number of tracings could be due to (1) creating @tf.function repeatedly in a loop, (2) passing tensors with different shapes, (3) passing Python objects instead of tensors. For (1), please define your @tf.function outside of the loop. For (2), @tf.function has experimental_relax_shapes=True option that relaxes argument shapes that can avoid unnecessary retracing. For (3), please refer to https://www.tensorflow.org/guide/function#controlling_retracing and https://www.tensorflow.org/api_docs/python/tf/function for  more details.\n",
      "WARNING:tensorflow:5 out of the last 13 calls to <function Model.make_predict_function.<locals>.predict_function at 0x7fd96030d040> triggered tf.function retracing. Tracing is expensive and the excessive number of tracings could be due to (1) creating @tf.function repeatedly in a loop, (2) passing tensors with different shapes, (3) passing Python objects instead of tensors. For (1), please define your @tf.function outside of the loop. For (2), @tf.function has experimental_relax_shapes=True option that relaxes argument shapes that can avoid unnecessary retracing. For (3), please refer to https://www.tensorflow.org/guide/function#controlling_retracing and https://www.tensorflow.org/api_docs/python/tf/function for  more details.\n"
     ]
    }
   ],
   "source": [
    "input_dir = 'datasets/antrenare/clasic'\n",
    "output_dir = 'results'\n",
    "number_of_samples = 20  # number of input images\n",
    "get_results(input_dir, output_dir, number_of_samples)"
   ]
  }
 ],
 "metadata": {
  "kernelspec": {
   "display_name": "Python 3 (ipykernel)",
   "language": "python",
   "name": "python3"
  },
  "language_info": {
   "codemirror_mode": {
    "name": "ipython",
    "version": 3
   },
   "file_extension": ".py",
   "mimetype": "text/x-python",
   "name": "python",
   "nbconvert_exporter": "python",
   "pygments_lexer": "ipython3",
   "version": "3.8.10"
  }
 },
 "nbformat": 4,
 "nbformat_minor": 5
}
