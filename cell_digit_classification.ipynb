{
 "cells": [
  {
   "cell_type": "code",
   "execution_count": 7,
   "metadata": {},
   "outputs": [],
   "source": [
    "import os\n",
    "import numpy as np\n",
    "import cv2 as cv\n",
    "\n",
    "from sklearn.model_selection import train_test_split\n",
    "\n",
    "import tensorflow as tf\n",
    "from tensorflow.keras.models import Sequential\n",
    "from tensorflow.keras.layers import Dense, Dropout, BatchNormalization\n",
    "from tensorflow.keras.layers import Conv2D, MaxPooling2D, Flatten, Activation, LeakyReLU\n",
    "from tensorflow.keras.losses import categorical_crossentropy\n",
    "from tensorflow.keras.utils import to_categorical\n",
    "from tensorflow.keras.callbacks import ModelCheckpoint, EarlyStopping"
   ]
  },
  {
   "cell_type": "markdown",
   "metadata": {},
   "source": [
    "### Load the dataset"
   ]
  },
  {
   "cell_type": "code",
   "execution_count": 2,
   "metadata": {},
   "outputs": [],
   "source": [
    "X = [] # images\n",
    "Y = [] # labels\n",
    "for cls in range(10):\n",
    "    class_path = f'cells_dataset/assets/{cls}'\n",
    "    for img_id in os.listdir(class_path):\n",
    "        img_path = class_path + '/' + img_id\n",
    "        img = cv.imread(img_path)\n",
    "        img = cv.cvtColor(img, cv.COLOR_BGR2GRAY)\n",
    "        X.append(img)\n",
    "        Y.append(cls)\n",
    "\n",
    "# the 0 class (empty cell) contains 18 images while the other classes contain ~ 380 samples each\n",
    "# let's try to balance the dataset\n",
    "for i in range(350):\n",
    "    img_path = 'cells_dataset/assets/0/00.jpeg'\n",
    "    img = cv.imread(img_path)\n",
    "    img = cv.cvtColor(img, cv.COLOR_BGR2GRAY)\n",
    "    X.append(img)\n",
    "    Y.append(0)\n",
    "    \n",
    "X = np.array(X) / 255  # normalize\n",
    "Y = np.array(Y)\n",
    "\n",
    "X = X.reshape((X.shape[0], 28, 28, 1)).astype('float32')  # reshape\n",
    "Y = to_categorical(Y)  # one hot encoding"
   ]
  },
  {
   "cell_type": "code",
   "execution_count": 3,
   "metadata": {},
   "outputs": [
    {
     "name": "stdout",
     "output_type": "stream",
     "text": [
      "(3806, 28, 28, 1)\n",
      "(3806, 10)\n"
     ]
    }
   ],
   "source": [
    "print(X.shape) # (3806, 28, 28, 1)\n",
    "print(Y.shape) # (3806, 10)"
   ]
  },
  {
   "cell_type": "markdown",
   "metadata": {},
   "source": [
    "### Split the dataset into test and train"
   ]
  },
  {
   "cell_type": "code",
   "execution_count": 4,
   "metadata": {},
   "outputs": [
    {
     "name": "stdout",
     "output_type": "stream",
     "text": [
      "(3425, 28, 28, 1)\n",
      "(381, 28, 28, 1)\n"
     ]
    }
   ],
   "source": [
    "X_train, X_test, Y_train, Y_test = train_test_split(\n",
    "    X, Y, test_size=0.1, shuffle=True)\n",
    "\n",
    "print(X_train.shape) # (3425, 28, 28, 1)\n",
    "print(X_test.shape)  # (381, 28, 28, 1)"
   ]
  },
  {
   "cell_type": "markdown",
   "metadata": {},
   "source": [
    "### Build the CNN"
   ]
  },
  {
   "cell_type": "code",
   "execution_count": 11,
   "metadata": {},
   "outputs": [],
   "source": [
    "def create_model():\n",
    "    cnn = Sequential()\n",
    "    cnn.add(Conv2D(32, (5, 5), input_shape=(28, 28, 1),\n",
    "            activation='relu', padding='same'))\n",
    "    cnn.add(MaxPooling2D((2, 2), padding='same'))\n",
    "    cnn.add(Conv2D(16, (3, 3), activation='relu', padding='same'))\n",
    "    cnn.add(MaxPooling2D((2, 2), padding='same'))\n",
    "    cnn.add(Conv2D(8, (3, 3), activation='relu', padding='same'))\n",
    "    cnn.add(MaxPooling2D((2, 2), padding='same'))\n",
    "    cnn.add(Dropout(0.2))\n",
    "    cnn.add(Flatten())\n",
    "    cnn.add(Dense(128, activation='relu'))\n",
    "    cnn.add(Dense(10, activation='softmax'))\n",
    "\n",
    "    cnn.compile(loss=categorical_crossentropy,\n",
    "            optimizer='adam', metrics=['accuracy'])\n",
    "    # cnn.summary()\n",
    "    return cnn\n",
    "        \n",
    "model = create_model()"
   ]
  },
  {
   "cell_type": "markdown",
   "metadata": {},
   "source": [
    "### Train and store\n"
   ]
  },
  {
   "cell_type": "code",
   "execution_count": 12,
   "metadata": {},
   "outputs": [
    {
     "name": "stdout",
     "output_type": "stream",
     "text": [
      "Epoch 1/20\n",
      "857/857 [==============================] - 3s 4ms/step - loss: 1.5159 - accuracy: 0.4599 - val_loss: 0.5872 - val_accuracy: 0.7638\n",
      "Epoch 2/20\n",
      "857/857 [==============================] - 3s 3ms/step - loss: 0.4290 - accuracy: 0.8511 - val_loss: 0.2754 - val_accuracy: 0.8898\n",
      "Epoch 3/20\n",
      "857/857 [==============================] - 3s 3ms/step - loss: 0.2335 - accuracy: 0.9215 - val_loss: 0.1207 - val_accuracy: 0.9685\n",
      "Epoch 4/20\n",
      "857/857 [==============================] - 3s 3ms/step - loss: 0.1424 - accuracy: 0.9542 - val_loss: 0.0709 - val_accuracy: 0.9816\n",
      "Epoch 5/20\n",
      "857/857 [==============================] - 3s 3ms/step - loss: 0.1065 - accuracy: 0.9632 - val_loss: 0.0542 - val_accuracy: 0.9843\n",
      "Epoch 6/20\n",
      "857/857 [==============================] - 3s 3ms/step - loss: 0.1014 - accuracy: 0.9653 - val_loss: 0.0647 - val_accuracy: 0.9764\n",
      "Epoch 7/20\n",
      "857/857 [==============================] - 3s 3ms/step - loss: 0.0633 - accuracy: 0.9778 - val_loss: 0.0714 - val_accuracy: 0.9790\n",
      "Epoch 8/20\n",
      "857/857 [==============================] - 3s 3ms/step - loss: 0.0591 - accuracy: 0.9799 - val_loss: 0.0270 - val_accuracy: 0.9948\n",
      "Epoch 9/20\n",
      "857/857 [==============================] - 3s 3ms/step - loss: 0.0448 - accuracy: 0.9839 - val_loss: 0.0149 - val_accuracy: 0.9974\n",
      "Epoch 10/20\n",
      "857/857 [==============================] - 3s 3ms/step - loss: 0.0747 - accuracy: 0.9752 - val_loss: 0.0155 - val_accuracy: 0.9948\n",
      "Epoch 11/20\n",
      "857/857 [==============================] - 3s 3ms/step - loss: 0.0288 - accuracy: 0.9909 - val_loss: 0.0058 - val_accuracy: 0.9974\n",
      "Epoch 12/20\n",
      "857/857 [==============================] - 3s 3ms/step - loss: 0.0539 - accuracy: 0.9842 - val_loss: 0.0107 - val_accuracy: 0.9974\n",
      "Epoch 13/20\n",
      "857/857 [==============================] - 3s 3ms/step - loss: 0.0296 - accuracy: 0.9909 - val_loss: 0.0207 - val_accuracy: 0.9869\n",
      "Epoch 14/20\n",
      "857/857 [==============================] - 3s 3ms/step - loss: 0.0322 - accuracy: 0.9904 - val_loss: 0.0084 - val_accuracy: 1.0000\n",
      "Epoch 15/20\n",
      "857/857 [==============================] - 3s 3ms/step - loss: 0.0316 - accuracy: 0.9898 - val_loss: 0.0041 - val_accuracy: 1.0000\n",
      "Epoch 16/20\n",
      "857/857 [==============================] - 3s 3ms/step - loss: 0.0299 - accuracy: 0.9924 - val_loss: 0.0540 - val_accuracy: 0.9843\n",
      "Epoch 17/20\n",
      "857/857 [==============================] - 3s 3ms/step - loss: 0.0331 - accuracy: 0.9874 - val_loss: 0.0016 - val_accuracy: 1.0000\n",
      "Epoch 18/20\n",
      "857/857 [==============================] - 3s 3ms/step - loss: 0.0367 - accuracy: 0.9886 - val_loss: 0.0071 - val_accuracy: 0.9974\n",
      "Epoch 19/20\n",
      "857/857 [==============================] - 3s 3ms/step - loss: 0.0185 - accuracy: 0.9927 - val_loss: 0.0044 - val_accuracy: 0.9974\n",
      "Epoch 20/20\n",
      "857/857 [==============================] - 3s 3ms/step - loss: 0.0292 - accuracy: 0.9912 - val_loss: 0.0025 - val_accuracy: 1.0000\n"
     ]
    }
   ],
   "source": [
    "batch_size = 4\n",
    "epochs = 20\n",
    "\n",
    "model.fit(X_train, Y_train, batch_size=batch_size, epochs=epochs,\n",
    "          verbose=1, validation_data=(X_test, Y_test))\n",
    "\n",
    "model.save('saved_model/model.h5')"
   ]
  },
  {
   "cell_type": "markdown",
   "metadata": {},
   "source": [
    "### Load and Inference"
   ]
  },
  {
   "cell_type": "code",
   "execution_count": 9,
   "metadata": {},
   "outputs": [
    {
     "name": "stdout",
     "output_type": "stream",
     "text": [
      "3/3 - 0s - loss: 0.0032 - accuracy: 1.0000 - 157ms/epoch - 52ms/step\n",
      "Restored model, accuracy: 100.00%\n",
      "3/3 [==============================] - 0s 3ms/step\n"
     ]
    },
    {
     "data": {
      "image/png": "[encoded data removed]",
      "text/plain": [
       "<Figure size 432x288 with 1 Axes>"
      ]
     },
     "metadata": {
      "needs_background": "light"
     },
     "output_type": "display_data"
    },
    {
     "data": {
      "image/png": "[encoded data removed]",
      "text/plain": [
       "<Figure size 432x288 with 1 Axes>"
      ]
     },
     "metadata": {
      "needs_background": "light"
     },
     "output_type": "display_data"
    },
    {
     "data": {
      "image/png": "[encoded data removed]",
      "text/plain": [
       "<Figure size 432x288 with 1 Axes>"
      ]
     },
     "metadata": {
      "needs_background": "light"
     },
     "output_type": "display_data"
    },
    {
     "data": {
      "image/png": "[encoded data removed]",
      "text/plain": [
       "<Figure size 432x288 with 1 Axes>"
      ]
     },
     "metadata": {
      "needs_background": "light"
     },
     "output_type": "display_data"
    },
    {
     "data": {
      "image/png": "[encoded data removed]",
      "text/plain": [
       "<Figure size 432x288 with 1 Axes>"
      ]
     },
     "metadata": {
      "needs_background": "light"
     },
     "output_type": "display_data"
    },
    {
     "data": {
      "image/png": "[encoded data removed]",
      "text/plain": [
       "<Figure size 432x288 with 1 Axes>"
      ]
     },
     "metadata": {
      "needs_background": "light"
     },
     "output_type": "display_data"
    },
    {
     "data": {
      "image/png": "[encoded data removed]",
      "text/plain": [
       "<Figure size 432x288 with 1 Axes>"
      ]
     },
     "metadata": {
      "needs_background": "light"
     },
     "output_type": "display_data"
    },
    {
     "data": {
      "image/png": "[encoded data removed]",
      "text/plain": [
       "<Figure size 432x288 with 1 Axes>"
      ]
     },
     "metadata": {
      "needs_background": "light"
     },
     "output_type": "display_data"
    },
    {
     "data": {
      "image/png": "[encoded data removed]",
      "text/plain": [
       "<Figure size 432x288 with 1 Axes>"
      ]
     },
     "metadata": {
      "needs_background": "light"
     },
     "output_type": "display_data"
    },
    {
     "data": {
      "image/png": "[encoded data removed]",
      "text/plain": [
       "<Figure size 432x288 with 1 Axes>"
      ]
     },
     "metadata": {
      "needs_background": "light"
     },
     "output_type": "display_data"
    }
   ],
   "source": [
    "model = tf.keras.models.load_model('saved_model/model.h5')\n",
    "\n",
    "loss, acc = model.evaluate(X_test, Y_test, verbose=2)\n",
    "print('Restored model, accuracy: {:5.2f}%'.format(100 * acc))\n",
    "\n",
    "pred = model.predict(X_test,verbose = 1)\n",
    "\n",
    "import matplotlib.pyplot as plt\n",
    "\n",
    "for i in range(10):\n",
    "    plt.imshow(X_test[i])\n",
    "    plt.title(np.argmax(pred[i]))\n",
    "    plt.show()\n",
    "\n"
   ]
  }
 ],
 "metadata": {
  "interpreter": {
   "hash": "916dbcbb3f70747c44a77c7bcd40155683ae19c65e1c03b4aa3499c5328201f1"
  },
  "kernelspec": {
   "display_name": "Python 3.8.10 64-bit",
   "language": "python",
   "name": "python3"
  },
  "language_info": {
   "codemirror_mode": {
    "name": "ipython",
    "version": 3
   },
   "file_extension": ".py",
   "mimetype": "text/x-python",
   "name": "python",
   "nbconvert_exporter": "python",
   "pygments_lexer": "ipython3",
   "version": "3.8.10"
  },
  "orig_nbformat": 4
 },
 "nbformat": 4,
 "nbformat_minor": 2
}
