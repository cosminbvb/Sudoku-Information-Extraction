{
 "cells": [
  {
   "cell_type": "code",
   "execution_count": 7,
   "metadata": {},
   "outputs": [],
   "source": [
    "import os\n",
    "import numpy as np\n",
    "import cv2 as cv\n",
    "\n",
    "from sklearn.model_selection import train_test_split\n",
    "\n",
    "import tensorflow as tf\n",
    "from tensorflow.keras.models import Sequential\n",
    "from tensorflow.keras.layers import Dense, Dropout, BatchNormalization\n",
    "from tensorflow.keras.layers import Conv2D, MaxPooling2D, Flatten, Activation, LeakyReLU\n",
    "from tensorflow.keras.losses import categorical_crossentropy\n",
    "from tensorflow.keras.utils import to_categorical\n",
    "from tensorflow.keras.callbacks import ModelCheckpoint, EarlyStopping"
   ]
  },
  {
   "cell_type": "markdown",
   "metadata": {},
   "source": [
    "### Load the dataset"
   ]
  },
  {
   "cell_type": "code",
   "execution_count": 2,
   "metadata": {},
   "outputs": [],
   "source": [
    "X = [] # images\n",
    "Y = [] # labels\n",
    "for cls in range(10):\n",
    "    class_path = f'cells_dataset/assets/{cls}'\n",
    "    for img_id in os.listdir(class_path):\n",
    "        img_path = class_path + '/' + img_id\n",
    "        img = cv.imread(img_path)\n",
    "        img = cv.cvtColor(img, cv.COLOR_BGR2GRAY)\n",
    "        X.append(img)\n",
    "        Y.append(cls)\n",
    "\n",
    "# the 0 class (empty cell) contains 18 images while the other classes contain ~ 380 samples each\n",
    "# let's try to balance the dataset\n",
    "for i in range(350):\n",
    "    img_path = 'cells_dataset/assets/0/00.jpeg'\n",
    "    img = cv.imread(img_path)\n",
    "    img = cv.cvtColor(img, cv.COLOR_BGR2GRAY)\n",
    "    X.append(img)\n",
    "    Y.append(0)\n",
    "    \n",
    "X = np.array(X) / 255  # normalize\n",
    "Y = np.array(Y)\n",
    "\n",
    "X = X.reshape((X.shape[0], 28, 28, 1)).astype('float32')  # reshape\n",
    "Y = to_categorical(Y)  # one hot encoding"
   ]
  },
  {
   "cell_type": "code",
   "execution_count": 3,
   "metadata": {},
   "outputs": [
    {
     "name": "stdout",
     "output_type": "stream",
     "text": [
      "(3806, 28, 28, 1)\n",
      "(3806, 10)\n"
     ]
    }
   ],
   "source": [
    "print(X.shape) # (3806, 28, 28, 1)\n",
    "print(Y.shape) # (3806, 10)"
   ]
  },
  {
   "cell_type": "markdown",
   "metadata": {},
   "source": [
    "### Split the dataset into test and train"
   ]
  },
  {
   "cell_type": "code",
   "execution_count": 4,
   "metadata": {},
   "outputs": [
    {
     "name": "stdout",
     "output_type": "stream",
     "text": [
      "(3425, 28, 28, 1)\n",
      "(381, 28, 28, 1)\n"
     ]
    }
   ],
   "source": [
    "X_train, X_test, Y_train, Y_test = train_test_split(\n",
    "    X, Y, test_size=0.1, shuffle=True)\n",
    "\n",
    "print(X_train.shape) # (3425, 28, 28, 1)\n",
    "print(X_test.shape)  # (381, 28, 28, 1)"
   ]
  },
  {
   "cell_type": "markdown",
   "metadata": {},
   "source": [
    "### Build the CNN"
   ]
  },
  {
   "cell_type": "code",
   "execution_count": 39,
   "metadata": {},
   "outputs": [],
   "source": [
    "def create_model():\n",
    "    cnn = Sequential()\n",
    "    cnn.add(Conv2D(32, (5, 5), input_shape=(28, 28, 1),\n",
    "            activation='relu', padding='same'))\n",
    "    cnn.add(MaxPooling2D((2, 2), padding='same'))\n",
    "    cnn.add(Conv2D(128, (3, 3), activation='relu', padding='same'))\n",
    "    cnn.add(MaxPooling2D((2, 2), padding='same'))\n",
    "    cnn.add(Conv2D(64, (3, 3), activation='relu', padding='same'))\n",
    "    cnn.add(MaxPooling2D((2, 2), padding='same'))\n",
    "    cnn.add(Dropout(0.2))\n",
    "    cnn.add(Flatten())\n",
    "    cnn.add(Dense(128, activation='relu'))\n",
    "    cnn.add(Dense(10, activation='softmax'))\n",
    "\n",
    "    cnn.compile(loss=categorical_crossentropy,\n",
    "            optimizer='adam', metrics=['accuracy'])\n",
    "    # cnn.summary()\n",
    "    return cnn\n",
    "        \n",
    "model = create_model()"
   ]
  },
  {
   "cell_type": "markdown",
   "metadata": {},
   "source": [
    "### Train and store\n"
   ]
  },
  {
   "cell_type": "code",
   "execution_count": 40,
   "metadata": {},
   "outputs": [
    {
     "name": "stdout",
     "output_type": "stream",
     "text": [
      "Epoch 1/20\n",
      "429/429 [==============================] - 3s 6ms/step - loss: 1.0636 - accuracy: 0.6172 - val_loss: 0.2716 - val_accuracy: 0.8871\n",
      "Epoch 2/20\n",
      "429/429 [==============================] - 3s 6ms/step - loss: 0.1150 - accuracy: 0.9650 - val_loss: 0.0282 - val_accuracy: 0.9921\n",
      "Epoch 3/20\n",
      "429/429 [==============================] - 3s 6ms/step - loss: 0.0706 - accuracy: 0.9796 - val_loss: 0.0208 - val_accuracy: 0.9974\n",
      "Epoch 4/20\n",
      "429/429 [==============================] - 3s 6ms/step - loss: 0.0232 - accuracy: 0.9933 - val_loss: 0.0112 - val_accuracy: 1.0000\n",
      "Epoch 5/20\n",
      "429/429 [==============================] - 3s 7ms/step - loss: 0.0648 - accuracy: 0.9810 - val_loss: 0.0073 - val_accuracy: 1.0000\n",
      "Epoch 6/20\n",
      "429/429 [==============================] - 3s 6ms/step - loss: 0.0158 - accuracy: 0.9956 - val_loss: 0.0099 - val_accuracy: 0.9974\n",
      "Epoch 7/20\n",
      "429/429 [==============================] - 3s 7ms/step - loss: 0.0024 - accuracy: 0.9997 - val_loss: 0.0011 - val_accuracy: 1.0000\n",
      "Epoch 8/20\n",
      "429/429 [==============================] - 3s 7ms/step - loss: 0.0451 - accuracy: 0.9889 - val_loss: 0.0933 - val_accuracy: 0.9580\n",
      "Epoch 9/20\n",
      "429/429 [==============================] - 3s 7ms/step - loss: 0.0193 - accuracy: 0.9942 - val_loss: 0.0011 - val_accuracy: 1.0000\n",
      "Epoch 10/20\n",
      "429/429 [==============================] - 3s 7ms/step - loss: 0.0054 - accuracy: 0.9985 - val_loss: 0.0064 - val_accuracy: 0.9974\n",
      "Epoch 11/20\n",
      "429/429 [==============================] - 3s 7ms/step - loss: 0.0198 - accuracy: 0.9945 - val_loss: 0.0014 - val_accuracy: 1.0000\n",
      "Epoch 12/20\n",
      "429/429 [==============================] - 3s 7ms/step - loss: 0.0172 - accuracy: 0.9945 - val_loss: 0.0025 - val_accuracy: 1.0000\n",
      "Epoch 13/20\n",
      "429/429 [==============================] - 3s 7ms/step - loss: 0.0068 - accuracy: 0.9980 - val_loss: 0.0014 - val_accuracy: 1.0000\n",
      "Epoch 14/20\n",
      "429/429 [==============================] - 3s 7ms/step - loss: 8.7958e-04 - accuracy: 1.0000 - val_loss: 0.0021 - val_accuracy: 1.0000\n",
      "Epoch 15/20\n",
      "429/429 [==============================] - 3s 7ms/step - loss: 0.0274 - accuracy: 0.9918 - val_loss: 0.0068 - val_accuracy: 0.9974\n",
      "Epoch 16/20\n",
      "429/429 [==============================] - 3s 7ms/step - loss: 0.0274 - accuracy: 0.9921 - val_loss: 0.0040 - val_accuracy: 0.9974\n",
      "Epoch 17/20\n",
      "429/429 [==============================] - 4s 9ms/step - loss: 0.0021 - accuracy: 0.9991 - val_loss: 0.0012 - val_accuracy: 1.0000\n",
      "Epoch 18/20\n",
      "429/429 [==============================] - 3s 8ms/step - loss: 1.7452e-04 - accuracy: 1.0000 - val_loss: 0.0012 - val_accuracy: 1.0000\n",
      "Epoch 19/20\n",
      "429/429 [==============================] - 3s 7ms/step - loss: 8.5798e-05 - accuracy: 1.0000 - val_loss: 7.7822e-04 - val_accuracy: 1.0000\n",
      "Epoch 20/20\n",
      "429/429 [==============================] - 3s 7ms/step - loss: 9.6001e-05 - accuracy: 1.0000 - val_loss: 3.7918e-04 - val_accuracy: 1.0000\n"
     ]
    }
   ],
   "source": [
    "batch_size = 8\n",
    "epochs = 20\n",
    "\n",
    "model.fit(X_train, Y_train, batch_size=batch_size, epochs=epochs,\n",
    "          verbose=1, validation_data=(X_test, Y_test))\n",
    "\n",
    "model.save('saved_model/model.h5')"
   ]
  }
 ],
 "metadata": {
  "interpreter": {
   "hash": "916dbcbb3f70747c44a77c7bcd40155683ae19c65e1c03b4aa3499c5328201f1"
  },
  "kernelspec": {
   "display_name": "Python 3.8.10 64-bit",
   "language": "python",
   "name": "python3"
  },
  "language_info": {
   "codemirror_mode": {
    "name": "ipython",
    "version": 3
   },
   "file_extension": ".py",
   "mimetype": "text/x-python",
   "name": "python",
   "nbconvert_exporter": "python",
   "pygments_lexer": "ipython3",
   "version": "3.8.10"
  },
  "orig_nbformat": 4
 },
 "nbformat": 4,
 "nbformat_minor": 2
}
